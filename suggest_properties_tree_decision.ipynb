{
  "nbformat": 4,
  "nbformat_minor": 0,
  "metadata": {
    "colab": {
      "name": "suggest_properties_tree_decision.ipynb",
      "provenance": [],
      "authorship_tag": "ABX9TyMmpnh5z/pA4Xr2J4/vBhsQ",
      "include_colab_link": true
    },
    "kernelspec": {
      "name": "python3",
      "display_name": "Python 3"
    },
    "language_info": {
      "name": "python"
    }
  },
  "cells": [
    {
      "cell_type": "markdown",
      "metadata": {
        "id": "view-in-github",
        "colab_type": "text"
      },
      "source": [
        "<a href=\"https://colab.research.google.com/github/ns4lin4s/AttackOnTitan/blob/master/suggest_properties_tree_decision.ipynb\" target=\"_parent\"><img src=\"https://colab.research.google.com/assets/colab-badge.svg\" alt=\"Open In Colab\"/></a>"
      ]
    },
    {
      "cell_type": "code",
      "metadata": {
        "id": "L-OwiRQ8lzQu"
      },
      "source": [
        "import pandas as pd\n",
        "import matplotlib.pyplot as plt\n",
        "import seaborn as sns\n",
        "from sklearn import datasets\n",
        "from sklearn import metrics\n",
        "from sklearn.preprocessing import StandardScaler #Necesario para la estandarizacion de los datos\n",
        "import numpy as np\n",
        "from sklearn import tree #Arbol de decision\n",
        "from sklearn.model_selection import train_test_split #Nos permite generar los datos de entrenamiento y prueba\n",
        "pd.options.mode.chained_assignment = None"
      ],
      "execution_count": 187,
      "outputs": []
    },
    {
      "cell_type": "markdown",
      "metadata": {
        "id": "H_4DeUm_tcWM"
      },
      "source": [
        "**Cargar CSV**"
      ]
    },
    {
      "cell_type": "code",
      "metadata": {
        "colab": {
          "base_uri": "https://localhost:8080/",
          "height": 204
        },
        "id": "8XKzv5x1l2cw",
        "outputId": "b4437af4-16e5-4a6b-daca-ecd4da333f94"
      },
      "source": [
        "df = pd.read_csv('propiedades_favoritas.csv')\n",
        "df.head()"
      ],
      "execution_count": 188,
      "outputs": [
        {
          "output_type": "execute_result",
          "data": {
            "text/html": [
              "<div>\n",
              "<style scoped>\n",
              "    .dataframe tbody tr th:only-of-type {\n",
              "        vertical-align: middle;\n",
              "    }\n",
              "\n",
              "    .dataframe tbody tr th {\n",
              "        vertical-align: top;\n",
              "    }\n",
              "\n",
              "    .dataframe thead th {\n",
              "        text-align: right;\n",
              "    }\n",
              "</style>\n",
              "<table border=\"1\" class=\"dataframe\">\n",
              "  <thead>\n",
              "    <tr style=\"text-align: right;\">\n",
              "      <th></th>\n",
              "      <th>IdComuna</th>\n",
              "      <th>PrecioDesde</th>\n",
              "      <th>SuperficieUtilDesde</th>\n",
              "      <th>BanosDesde</th>\n",
              "      <th>DormitoriosDesde</th>\n",
              "      <th>IdRegion</th>\n",
              "      <th>Interes</th>\n",
              "    </tr>\n",
              "  </thead>\n",
              "  <tbody>\n",
              "    <tr>\n",
              "      <th>0</th>\n",
              "      <td>3</td>\n",
              "      <td>2350.0</td>\n",
              "      <td>44.90</td>\n",
              "      <td>1</td>\n",
              "      <td>2</td>\n",
              "      <td>15</td>\n",
              "      <td>0</td>\n",
              "    </tr>\n",
              "    <tr>\n",
              "      <th>1</th>\n",
              "      <td>3</td>\n",
              "      <td>42500.0</td>\n",
              "      <td>0.00</td>\n",
              "      <td>0</td>\n",
              "      <td>0</td>\n",
              "      <td>15</td>\n",
              "      <td>0</td>\n",
              "    </tr>\n",
              "    <tr>\n",
              "      <th>2</th>\n",
              "      <td>8</td>\n",
              "      <td>2350.0</td>\n",
              "      <td>46.95</td>\n",
              "      <td>1</td>\n",
              "      <td>1</td>\n",
              "      <td>1</td>\n",
              "      <td>0</td>\n",
              "    </tr>\n",
              "    <tr>\n",
              "      <th>3</th>\n",
              "      <td>8</td>\n",
              "      <td>2550.0</td>\n",
              "      <td>45.00</td>\n",
              "      <td>1</td>\n",
              "      <td>1</td>\n",
              "      <td>1</td>\n",
              "      <td>0</td>\n",
              "    </tr>\n",
              "    <tr>\n",
              "      <th>4</th>\n",
              "      <td>8</td>\n",
              "      <td>2600.0</td>\n",
              "      <td>53.00</td>\n",
              "      <td>1</td>\n",
              "      <td>3</td>\n",
              "      <td>1</td>\n",
              "      <td>0</td>\n",
              "    </tr>\n",
              "  </tbody>\n",
              "</table>\n",
              "</div>"
            ],
            "text/plain": [
              "   IdComuna  PrecioDesde  ...  IdRegion  Interes\n",
              "0         3       2350.0  ...        15        0\n",
              "1         3      42500.0  ...        15        0\n",
              "2         8       2350.0  ...         1        0\n",
              "3         8       2550.0  ...         1        0\n",
              "4         8       2600.0  ...         1        0\n",
              "\n",
              "[5 rows x 7 columns]"
            ]
          },
          "metadata": {
            "tags": []
          },
          "execution_count": 188
        }
      ]
    },
    {
      "cell_type": "markdown",
      "metadata": {
        "id": "Ah9Kefq5uGIz"
      },
      "source": [
        "**Visualizando la distribución de propiedades favoritas**"
      ]
    },
    {
      "cell_type": "code",
      "metadata": {
        "colab": {
          "base_uri": "https://localhost:8080/",
          "height": 343
        },
        "id": "mtbSGahDuEr0",
        "outputId": "07bbfe1e-03e9-4b09-9e6d-e4c69e1092d1"
      },
      "source": [
        "#Arreglo con la información de interés acerca de la propiedad\n",
        "arr_interest = df['Interes'].value_counts()\n",
        "print(arr_interest)\n",
        "#Configuramos nuestro grafico de tipo barra y de color azul y rojo.\n",
        "arr_interest.plot(kind = 'bar', color = ['b', 'r', 'g', 'y'])\n",
        "plt.title('Distribución de interés')\n",
        "plt.xlabel(f'Sí hay interés: {str(arr_interest[1])} - No hay interés: {str(arr_interest[0])}')\n",
        "plt.show()"
      ],
      "execution_count": 192,
      "outputs": [
        {
          "output_type": "stream",
          "text": [
            "1    521\n",
            "0    487\n",
            "Name: Interes, dtype: int64\n"
          ],
          "name": "stdout"
        },
        {
          "output_type": "display_data",
          "data": {
            "image/png": "[encoded data removed]",
            "text/plain": [
              "<Figure size 432x288 with 1 Axes>"
            ]
          },
          "metadata": {
            "tags": [],
            "needs_background": "light"
          }
        }
      ]
    },
    {
      "cell_type": "markdown",
      "metadata": {
        "id": "F6n9VizBvzh6"
      },
      "source": [
        "**Pre-procesamiento**"
      ]
    },
    {
      "cell_type": "code",
      "metadata": {
        "colab": {
          "base_uri": "https://localhost:8080/"
        },
        "id": "MT55q27Xv5fb",
        "outputId": "e51cbc8c-71ef-4388-aec3-32f07e8640f3"
      },
      "source": [
        "features_cols = [\"PrecioDesde\",\"DormitoriosDesde\", \"SuperficieUtilDesde\", \"IdComuna\", \"IdRegion\" , \"BanosDesde\"]\n",
        "\n",
        "greater_than_price = (df['PrecioDesde'] > 1900)\n",
        "\n",
        "df = df.where(greater_than_price).dropna()\n",
        "\n",
        "less_than_area = (df['SuperficieUtilDesde'] < 500)\n",
        "\n",
        "df = df.where(less_than_area).dropna()\n",
        "\n",
        "train_predictor = df[features_cols]\n",
        "\n",
        "train_predictor.loc[train_predictor['BanosDesde'] == 0, 'BanosDesde'] = 1\n",
        "\n",
        "train_predictor.loc[train_predictor['DormitoriosDesde'] == 0, 'DormitoriosDesde'] = 1\n",
        "\n",
        "train_predictor.loc[train_predictor['SuperficieUtilDesde'] < 20, 'SuperficieUtilDesde'] = train_predictor['SuperficieUtilDesde'].median()\n",
        "\n",
        "print(train_predictor)\n"
      ],
      "execution_count": 193,
      "outputs": [
        {
          "output_type": "stream",
          "text": [
            "      PrecioDesde  DormitoriosDesde  ...  IdRegion  BanosDesde\n",
            "0          2350.0               2.0  ...      15.0         1.0\n",
            "1         42500.0               1.0  ...      15.0         1.0\n",
            "2          2350.0               1.0  ...       1.0         1.0\n",
            "3          2550.0               1.0  ...       1.0         1.0\n",
            "4          2600.0               3.0  ...       1.0         1.0\n",
            "...           ...               ...  ...       ...         ...\n",
            "936        7220.0               2.0  ...      13.0         2.0\n",
            "937        8757.0               2.0  ...      13.0         2.0\n",
            "1003       4555.0               1.0  ...      13.0         1.0\n",
            "1006       4900.0               2.0  ...      13.0         2.0\n",
            "1007      22900.0               1.0  ...       1.0         1.0\n",
            "\n",
            "[480 rows x 6 columns]\n"
          ],
          "name": "stdout"
        }
      ]
    },
    {
      "cell_type": "code",
      "metadata": {
        "colab": {
          "base_uri": "https://localhost:8080/",
          "height": 204
        },
        "id": "lR5NypaxwtxW",
        "outputId": "5eb12cbf-abcd-441b-f57e-f359461d78d3"
      },
      "source": [
        "dummy = pd.get_dummies(train_predictor)\n",
        "dummy.head()"
      ],
      "execution_count": 194,
      "outputs": [
        {
          "output_type": "execute_result",
          "data": {
            "text/html": [
              "<div>\n",
              "<style scoped>\n",
              "    .dataframe tbody tr th:only-of-type {\n",
              "        vertical-align: middle;\n",
              "    }\n",
              "\n",
              "    .dataframe tbody tr th {\n",
              "        vertical-align: top;\n",
              "    }\n",
              "\n",
              "    .dataframe thead th {\n",
              "        text-align: right;\n",
              "    }\n",
              "</style>\n",
              "<table border=\"1\" class=\"dataframe\">\n",
              "  <thead>\n",
              "    <tr style=\"text-align: right;\">\n",
              "      <th></th>\n",
              "      <th>PrecioDesde</th>\n",
              "      <th>DormitoriosDesde</th>\n",
              "      <th>SuperficieUtilDesde</th>\n",
              "      <th>IdComuna</th>\n",
              "      <th>IdRegion</th>\n",
              "      <th>BanosDesde</th>\n",
              "    </tr>\n",
              "  </thead>\n",
              "  <tbody>\n",
              "    <tr>\n",
              "      <th>0</th>\n",
              "      <td>2350.0</td>\n",
              "      <td>2.0</td>\n",
              "      <td>44.90</td>\n",
              "      <td>3.0</td>\n",
              "      <td>15.0</td>\n",
              "      <td>1.0</td>\n",
              "    </tr>\n",
              "    <tr>\n",
              "      <th>1</th>\n",
              "      <td>42500.0</td>\n",
              "      <td>1.0</td>\n",
              "      <td>57.68</td>\n",
              "      <td>3.0</td>\n",
              "      <td>15.0</td>\n",
              "      <td>1.0</td>\n",
              "    </tr>\n",
              "    <tr>\n",
              "      <th>2</th>\n",
              "      <td>2350.0</td>\n",
              "      <td>1.0</td>\n",
              "      <td>46.95</td>\n",
              "      <td>8.0</td>\n",
              "      <td>1.0</td>\n",
              "      <td>1.0</td>\n",
              "    </tr>\n",
              "    <tr>\n",
              "      <th>3</th>\n",
              "      <td>2550.0</td>\n",
              "      <td>1.0</td>\n",
              "      <td>45.00</td>\n",
              "      <td>8.0</td>\n",
              "      <td>1.0</td>\n",
              "      <td>1.0</td>\n",
              "    </tr>\n",
              "    <tr>\n",
              "      <th>4</th>\n",
              "      <td>2600.0</td>\n",
              "      <td>3.0</td>\n",
              "      <td>53.00</td>\n",
              "      <td>8.0</td>\n",
              "      <td>1.0</td>\n",
              "      <td>1.0</td>\n",
              "    </tr>\n",
              "  </tbody>\n",
              "</table>\n",
              "</div>"
            ],
            "text/plain": [
              "   PrecioDesde  DormitoriosDesde  ...  IdRegion  BanosDesde\n",
              "0       2350.0               2.0  ...      15.0         1.0\n",
              "1      42500.0               1.0  ...      15.0         1.0\n",
              "2       2350.0               1.0  ...       1.0         1.0\n",
              "3       2550.0               1.0  ...       1.0         1.0\n",
              "4       2600.0               3.0  ...       1.0         1.0\n",
              "\n",
              "[5 rows x 6 columns]"
            ]
          },
          "metadata": {
            "tags": []
          },
          "execution_count": 194
        }
      ]
    },
    {
      "cell_type": "code",
      "metadata": {
        "id": "nr2rtPXrxCJB"
      },
      "source": [
        "#Arreglo de valores del campo que necesitamos predecir\n",
        "y_target = df['Interes'].values\n",
        "\n",
        "#Usamos los datos falsos basado en los datos de entrenamiento\n",
        "x_features_one = dummy.values"
      ],
      "execution_count": 195,
      "outputs": []
    },
    {
      "cell_type": "markdown",
      "metadata": {
        "id": "1HiSpPWUxqIp"
      },
      "source": [
        "**Datos de entrenamiento y pruebas basados en la configuración indicada**"
      ]
    },
    {
      "cell_type": "code",
      "metadata": {
        "id": "d6o_mCXWxwnA"
      },
      "source": [
        "#divide la info en el 25% y un random state para que no sean siempre los mismos datos\n",
        "x_train , x_test, y_train , y_test =  train_test_split(x_features_one, y_target, test_size= .25, random_state=1)"
      ],
      "execution_count": 196,
      "outputs": []
    },
    {
      "cell_type": "markdown",
      "metadata": {
        "id": "chWzfbM3x4E-"
      },
      "source": [
        "**Modelo**"
      ]
    },
    {
      "cell_type": "code",
      "metadata": {
        "id": "VmaNNZDHx0pg"
      },
      "source": [
        "#max_depth=representa que tan profundo puede ser el árbol\n",
        "tree_one = tree.DecisionTreeClassifier(max_depth=4) "
      ],
      "execution_count": 202,
      "outputs": []
    },
    {
      "cell_type": "code",
      "metadata": {
        "id": "o9KqUOUQyB9Y"
      },
      "source": [
        "#Se construye el árbol a partir de los datos de entrenamiento\n",
        "tree_one = tree_one.fit(x_train,y_train)\n",
        "y_pred = tree_one.predict(x_test)\n"
      ],
      "execution_count": 203,
      "outputs": []
    },
    {
      "cell_type": "code",
      "metadata": {
        "colab": {
          "base_uri": "https://localhost:8080/",
          "height": 343
        },
        "id": "cL8cUPmO3ecm",
        "outputId": "ec67d7e1-34e6-47d6-f0c1-6d068cdefa42"
      },
      "source": [
        "\n",
        "cnf_matrix = metrics.confusion_matrix(y_test, y_pred)\n",
        "cnf_matrix\n",
        "\n",
        "import numpy as np\n",
        "\n",
        "class_names = [0, 1]\n",
        "fig, ax = plt.subplots()\n",
        "tick_marks = np.arange(len(class_names))\n",
        "plt.xticks(tick_marks, class_names)\n",
        "plt.yticks(tick_marks, class_names)\n",
        "\n",
        "sns.heatmap(pd.DataFrame(cnf_matrix), annot = True, cmap = 'Blues_r', fmt = 'g')\n",
        "ax.xaxis.set_label_position('top')\n",
        "plt.tight_layout()\n",
        "plt.title('Matriz de confusion', y = 1.1)\n",
        "plt.ylabel('Etiqueta actual')\n",
        "plt.xlabel('Etiqueta de predicción')\n"
      ],
      "execution_count": 204,
      "outputs": [
        {
          "output_type": "execute_result",
          "data": {
            "text/plain": [
              "Text(0.5, 257.44, 'Etiqueta de predicción')"
            ]
          },
          "metadata": {
            "tags": []
          },
          "execution_count": 204
        },
        {
          "output_type": "display_data",
          "data": {
            "image/png": "[encoded data removed]",
            "text/plain": [
              "<Figure size 432x288 with 2 Axes>"
            ]
          },
          "metadata": {
            "tags": [],
            "needs_background": "light"
          }
        }
      ]
    },
    {
      "cell_type": "code",
      "metadata": {
        "colab": {
          "base_uri": "https://localhost:8080/"
        },
        "id": "B2_NhA8fyMjw",
        "outputId": "0784ac54-bf86-4047-b0a6-8a7193fa1adb"
      },
      "source": [
        "tree_one_accuracy = round(tree_one.score(x_test,y_test), 4)\n",
        "tree_one_accuracy"
      ],
      "execution_count": 205,
      "outputs": [
        {
          "output_type": "execute_result",
          "data": {
            "text/plain": [
              "0.9667"
            ]
          },
          "metadata": {
            "tags": []
          },
          "execution_count": 205
        }
      ]
    },
    {
      "cell_type": "markdown",
      "metadata": {
        "id": "JWS0FxwAFyKQ"
      },
      "source": [
        "**Visualización del árbol**\n"
      ]
    },
    {
      "cell_type": "code",
      "metadata": {
        "colab": {
          "base_uri": "https://localhost:8080/",
          "height": 657
        },
        "id": "iDv-adCkF5iz",
        "outputId": "c922ef21-ba75-4665-bd71-636983dee3b4"
      },
      "source": [
        "import graphviz\n",
        "from sklearn.tree import export_graphviz\n",
        "treedot = export_graphviz(tree_one,out_file=None, feature_names=df[features_cols].columns)\n",
        "graphviz.Source(treedot)"
      ],
      "execution_count": 206,
      "outputs": [
        {
          "output_type": "execute_result",
          "data": {
            "text/plain": [
              "<graphviz.files.Source at 0x7f9636c34310>"
            ],
            "image/svg+xml": "<?xml version=\"1.0\" encoding=\"UTF-8\" standalone=\"no\"?>\n<!DOCTYPE svg PUBLIC \"-//W3C//DTD SVG 1.1//EN\"\n \"http://www.w3.org/Graphics/SVG/1.1/DTD/svg11.dtd\">\n<!-- Generated by graphviz version 2.40.1 (20161225.0304)\n -->\n<!-- Title: Tree Pages: 1 -->\n<svg width=\"713pt\" height=\"477pt\"\n viewBox=\"0.00 0.00 712.50 477.00\" xmlns=\"http://www.w3.org/2000/svg\" xmlns:xlink=\"http://www.w3.org/1999/xlink\">\n<g id=\"graph0\" class=\"graph\" transform=\"scale(1 1) rotate(0) translate(4 473)\">\n<title>Tree</title>\n<polygon fill=\"#ffffff\" stroke=\"transparent\" points=\"-4,4 -4,-473 708.5,-473 708.5,4 -4,4\"/>\n<!-- 0 -->\n<g id=\"node1\" class=\"node\">\n<title>0</title>\n<polygon fill=\"none\" stroke=\"#000000\" points=\"532,-469 396,-469 396,-401 532,-401 532,-469\"/>\n<text text-anchor=\"middle\" x=\"464\" y=\"-453.8\" font-family=\"Times,serif\" font-size=\"14.00\" fill=\"#000000\">IdComuna &lt;= 298.5</text>\n<text text-anchor=\"middle\" x=\"464\" y=\"-438.8\" font-family=\"Times,serif\" font-size=\"14.00\" fill=\"#000000\">gini = 0.09</text>\n<text text-anchor=\"middle\" x=\"464\" y=\"-423.8\" font-family=\"Times,serif\" font-size=\"14.00\" fill=\"#000000\">samples = 360</text>\n<text text-anchor=\"middle\" x=\"464\" y=\"-408.8\" font-family=\"Times,serif\" font-size=\"14.00\" fill=\"#000000\">value = [343, 17]</text>\n</g>\n<!-- 1 -->\n<g id=\"node2\" class=\"node\">\n<title>1</title>\n<polygon fill=\"none\" stroke=\"#000000\" points=\"453.5,-365 300.5,-365 300.5,-297 453.5,-297 453.5,-365\"/>\n<text text-anchor=\"middle\" x=\"377\" y=\"-349.8\" font-family=\"Times,serif\" font-size=\"14.00\" fill=\"#000000\">PrecioDesde &lt;= 3199.0</text>\n<text text-anchor=\"middle\" x=\"377\" y=\"-334.8\" font-family=\"Times,serif\" font-size=\"14.00\" fill=\"#000000\">gini = 0.055</text>\n<text text-anchor=\"middle\" x=\"377\" y=\"-319.8\" font-family=\"Times,serif\" font-size=\"14.00\" fill=\"#000000\">samples = 352</text>\n<text text-anchor=\"middle\" x=\"377\" y=\"-304.8\" font-family=\"Times,serif\" font-size=\"14.00\" fill=\"#000000\">value = [342, 10]</text>\n</g>\n<!-- 0&#45;&gt;1 -->\n<g id=\"edge1\" class=\"edge\">\n<title>0&#45;&gt;1</title>\n<path fill=\"none\" stroke=\"#000000\" d=\"M435.5129,-400.9465C428.0021,-391.968 419.8105,-382.1758 411.9995,-372.8385\"/>\n<polygon fill=\"#000000\" stroke=\"#000000\" points=\"414.652,-370.5544 405.5511,-365.13 409.2829,-375.0459 414.652,-370.5544\"/>\n<text text-anchor=\"middle\" x=\"403.3347\" y=\"-386.3316\" font-family=\"Times,serif\" font-size=\"14.00\" fill=\"#000000\">True</text>\n</g>\n<!-- 12 -->\n<g id=\"node13\" class=\"node\">\n<title>12</title>\n<polygon fill=\"none\" stroke=\"#000000\" points=\"632.5,-365 471.5,-365 471.5,-297 632.5,-297 632.5,-365\"/>\n<text text-anchor=\"middle\" x=\"552\" y=\"-349.8\" font-family=\"Times,serif\" font-size=\"14.00\" fill=\"#000000\">PrecioDesde &lt;= 17986.5</text>\n<text text-anchor=\"middle\" x=\"552\" y=\"-334.8\" font-family=\"Times,serif\" font-size=\"14.00\" fill=\"#000000\">gini = 0.219</text>\n<text text-anchor=\"middle\" x=\"552\" y=\"-319.8\" font-family=\"Times,serif\" font-size=\"14.00\" fill=\"#000000\">samples = 8</text>\n<text text-anchor=\"middle\" x=\"552\" y=\"-304.8\" font-family=\"Times,serif\" font-size=\"14.00\" fill=\"#000000\">value = [1, 7]</text>\n</g>\n<!-- 0&#45;&gt;12 -->\n<g id=\"edge12\" class=\"edge\">\n<title>0&#45;&gt;12</title>\n<path fill=\"none\" stroke=\"#000000\" d=\"M492.8145,-400.9465C500.4117,-391.968 508.6974,-382.1758 516.5982,-372.8385\"/>\n<polygon fill=\"#000000\" stroke=\"#000000\" points=\"519.3332,-375.0247 523.1208,-365.13 513.9895,-370.5031 519.3332,-375.0247\"/>\n<text text-anchor=\"middle\" x=\"525.1969\" y=\"-386.3436\" font-family=\"Times,serif\" font-size=\"14.00\" fill=\"#000000\">False</text>\n</g>\n<!-- 2 -->\n<g id=\"node3\" class=\"node\">\n<title>2</title>\n<polygon fill=\"none\" stroke=\"#000000\" points=\"291.5,-261 138.5,-261 138.5,-193 291.5,-193 291.5,-261\"/>\n<text text-anchor=\"middle\" x=\"215\" y=\"-245.8\" font-family=\"Times,serif\" font-size=\"14.00\" fill=\"#000000\">PrecioDesde &lt;= 3174.0</text>\n<text text-anchor=\"middle\" x=\"215\" y=\"-230.8\" font-family=\"Times,serif\" font-size=\"14.00\" fill=\"#000000\">gini = 0.213</text>\n<text text-anchor=\"middle\" x=\"215\" y=\"-215.8\" font-family=\"Times,serif\" font-size=\"14.00\" fill=\"#000000\">samples = 66</text>\n<text text-anchor=\"middle\" x=\"215\" y=\"-200.8\" font-family=\"Times,serif\" font-size=\"14.00\" fill=\"#000000\">value = [58, 8]</text>\n</g>\n<!-- 1&#45;&gt;2 -->\n<g id=\"edge2\" class=\"edge\">\n<title>1&#45;&gt;2</title>\n<path fill=\"none\" stroke=\"#000000\" d=\"M323.9551,-296.9465C308.8505,-287.2497 292.2676,-276.6039 276.6954,-266.6069\"/>\n<polygon fill=\"#000000\" stroke=\"#000000\" points=\"278.47,-263.5871 268.164,-261.13 274.6884,-269.4777 278.47,-263.5871\"/>\n</g>\n<!-- 7 -->\n<g id=\"node8\" class=\"node\">\n<title>7</title>\n<polygon fill=\"none\" stroke=\"#000000\" points=\"462.5,-261 309.5,-261 309.5,-193 462.5,-193 462.5,-261\"/>\n<text text-anchor=\"middle\" x=\"386\" y=\"-245.8\" font-family=\"Times,serif\" font-size=\"14.00\" fill=\"#000000\">PrecioDesde &lt;= 4346.5</text>\n<text text-anchor=\"middle\" x=\"386\" y=\"-230.8\" font-family=\"Times,serif\" font-size=\"14.00\" fill=\"#000000\">gini = 0.014</text>\n<text text-anchor=\"middle\" x=\"386\" y=\"-215.8\" font-family=\"Times,serif\" font-size=\"14.00\" fill=\"#000000\">samples = 286</text>\n<text text-anchor=\"middle\" x=\"386\" y=\"-200.8\" font-family=\"Times,serif\" font-size=\"14.00\" fill=\"#000000\">value = [284, 2]</text>\n</g>\n<!-- 1&#45;&gt;7 -->\n<g id=\"edge7\" class=\"edge\">\n<title>1&#45;&gt;7</title>\n<path fill=\"none\" stroke=\"#000000\" d=\"M379.9469,-296.9465C380.654,-288.776 381.4194,-279.9318 382.1603,-271.3697\"/>\n<polygon fill=\"#000000\" stroke=\"#000000\" points=\"385.6712,-271.3945 383.0464,-261.13 378.6972,-270.791 385.6712,-271.3945\"/>\n</g>\n<!-- 3 -->\n<g id=\"node4\" class=\"node\">\n<title>3</title>\n<polygon fill=\"none\" stroke=\"#000000\" points=\"157,-157 29,-157 29,-89 157,-89 157,-157\"/>\n<text text-anchor=\"middle\" x=\"93\" y=\"-141.8\" font-family=\"Times,serif\" font-size=\"14.00\" fill=\"#000000\">IdComuna &lt;= 54.5</text>\n<text text-anchor=\"middle\" x=\"93\" y=\"-126.8\" font-family=\"Times,serif\" font-size=\"14.00\" fill=\"#000000\">gini = 0.192</text>\n<text text-anchor=\"middle\" x=\"93\" y=\"-111.8\" font-family=\"Times,serif\" font-size=\"14.00\" fill=\"#000000\">samples = 65</text>\n<text text-anchor=\"middle\" x=\"93\" y=\"-96.8\" font-family=\"Times,serif\" font-size=\"14.00\" fill=\"#000000\">value = [58, 7]</text>\n</g>\n<!-- 2&#45;&gt;3 -->\n<g id=\"edge3\" class=\"edge\">\n<title>2&#45;&gt;3</title>\n<path fill=\"none\" stroke=\"#000000\" d=\"M175.0526,-192.9465C164.0988,-183.6088 152.1127,-173.3911 140.768,-163.7203\"/>\n<polygon fill=\"#000000\" stroke=\"#000000\" points=\"142.9179,-160.9538 133.0371,-157.13 138.3767,-166.2809 142.9179,-160.9538\"/>\n</g>\n<!-- 6 -->\n<g id=\"node7\" class=\"node\">\n<title>6</title>\n<polygon fill=\"none\" stroke=\"#000000\" points=\"270.5,-149.5 175.5,-149.5 175.5,-96.5 270.5,-96.5 270.5,-149.5\"/>\n<text text-anchor=\"middle\" x=\"223\" y=\"-134.3\" font-family=\"Times,serif\" font-size=\"14.00\" fill=\"#000000\">gini = 0.0</text>\n<text text-anchor=\"middle\" x=\"223\" y=\"-119.3\" font-family=\"Times,serif\" font-size=\"14.00\" fill=\"#000000\">samples = 1</text>\n<text text-anchor=\"middle\" x=\"223\" y=\"-104.3\" font-family=\"Times,serif\" font-size=\"14.00\" fill=\"#000000\">value = [0, 1]</text>\n</g>\n<!-- 2&#45;&gt;6 -->\n<g id=\"edge6\" class=\"edge\">\n<title>2&#45;&gt;6</title>\n<path fill=\"none\" stroke=\"#000000\" d=\"M217.6195,-192.9465C218.4414,-182.2621 219.3519,-170.4254 220.1866,-159.5742\"/>\n<polygon fill=\"#000000\" stroke=\"#000000\" points=\"223.6809,-159.7812 220.9583,-149.5422 216.7015,-159.2442 223.6809,-159.7812\"/>\n</g>\n<!-- 4 -->\n<g id=\"node5\" class=\"node\">\n<title>4</title>\n<polygon fill=\"none\" stroke=\"#000000\" points=\"102,-53 0,-53 0,0 102,0 102,-53\"/>\n<text text-anchor=\"middle\" x=\"51\" y=\"-37.8\" font-family=\"Times,serif\" font-size=\"14.00\" fill=\"#000000\">gini = 0.053</text>\n<text text-anchor=\"middle\" x=\"51\" y=\"-22.8\" font-family=\"Times,serif\" font-size=\"14.00\" fill=\"#000000\">samples = 37</text>\n<text text-anchor=\"middle\" x=\"51\" y=\"-7.8\" font-family=\"Times,serif\" font-size=\"14.00\" fill=\"#000000\">value = [36, 1]</text>\n</g>\n<!-- 3&#45;&gt;4 -->\n<g id=\"edge4\" class=\"edge\">\n<title>3&#45;&gt;4</title>\n<path fill=\"none\" stroke=\"#000000\" d=\"M78.1924,-88.9777C74.4859,-80.4617 70.4969,-71.2963 66.7466,-62.6798\"/>\n<polygon fill=\"#000000\" stroke=\"#000000\" points=\"69.8418,-61.0209 62.6418,-53.2485 63.4234,-63.8145 69.8418,-61.0209\"/>\n</g>\n<!-- 5 -->\n<g id=\"node6\" class=\"node\">\n<title>5</title>\n<polygon fill=\"none\" stroke=\"#000000\" points=\"222,-53 120,-53 120,0 222,0 222,-53\"/>\n<text text-anchor=\"middle\" x=\"171\" y=\"-37.8\" font-family=\"Times,serif\" font-size=\"14.00\" fill=\"#000000\">gini = 0.337</text>\n<text text-anchor=\"middle\" x=\"171\" y=\"-22.8\" font-family=\"Times,serif\" font-size=\"14.00\" fill=\"#000000\">samples = 28</text>\n<text text-anchor=\"middle\" x=\"171\" y=\"-7.8\" font-family=\"Times,serif\" font-size=\"14.00\" fill=\"#000000\">value = [22, 6]</text>\n</g>\n<!-- 3&#45;&gt;5 -->\n<g id=\"edge5\" class=\"edge\">\n<title>3&#45;&gt;5</title>\n<path fill=\"none\" stroke=\"#000000\" d=\"M120.4999,-88.9777C127.7533,-80.0039 135.5897,-70.3089 142.8756,-61.295\"/>\n<polygon fill=\"#000000\" stroke=\"#000000\" points=\"145.8153,-63.2258 149.3795,-53.2485 140.3712,-58.8255 145.8153,-63.2258\"/>\n</g>\n<!-- 8 -->\n<g id=\"node9\" class=\"node\">\n<title>8</title>\n<polygon fill=\"none\" stroke=\"#000000\" points=\"455.5,-157 302.5,-157 302.5,-89 455.5,-89 455.5,-157\"/>\n<text text-anchor=\"middle\" x=\"379\" y=\"-141.8\" font-family=\"Times,serif\" font-size=\"14.00\" fill=\"#000000\">PrecioDesde &lt;= 4320.0</text>\n<text text-anchor=\"middle\" x=\"379\" y=\"-126.8\" font-family=\"Times,serif\" font-size=\"14.00\" fill=\"#000000\">gini = 0.07</text>\n<text text-anchor=\"middle\" x=\"379\" y=\"-111.8\" font-family=\"Times,serif\" font-size=\"14.00\" fill=\"#000000\">samples = 55</text>\n<text text-anchor=\"middle\" x=\"379\" y=\"-96.8\" font-family=\"Times,serif\" font-size=\"14.00\" fill=\"#000000\">value = [53, 2]</text>\n</g>\n<!-- 7&#45;&gt;8 -->\n<g id=\"edge8\" class=\"edge\">\n<title>7&#45;&gt;8</title>\n<path fill=\"none\" stroke=\"#000000\" d=\"M383.7079,-192.9465C383.158,-184.776 382.5627,-175.9318 381.9864,-167.3697\"/>\n<polygon fill=\"#000000\" stroke=\"#000000\" points=\"385.461,-166.8723 381.2972,-157.13 378.4768,-167.3425 385.461,-166.8723\"/>\n</g>\n<!-- 11 -->\n<g id=\"node12\" class=\"node\">\n<title>11</title>\n<polygon fill=\"none\" stroke=\"#000000\" points=\"584,-149.5 474,-149.5 474,-96.5 584,-96.5 584,-149.5\"/>\n<text text-anchor=\"middle\" x=\"529\" y=\"-134.3\" font-family=\"Times,serif\" font-size=\"14.00\" fill=\"#000000\">gini = 0.0</text>\n<text text-anchor=\"middle\" x=\"529\" y=\"-119.3\" font-family=\"Times,serif\" font-size=\"14.00\" fill=\"#000000\">samples = 231</text>\n<text text-anchor=\"middle\" x=\"529\" y=\"-104.3\" font-family=\"Times,serif\" font-size=\"14.00\" fill=\"#000000\">value = [231, 0]</text>\n</g>\n<!-- 7&#45;&gt;11 -->\n<g id=\"edge11\" class=\"edge\">\n<title>7&#45;&gt;11</title>\n<path fill=\"none\" stroke=\"#000000\" d=\"M432.8235,-192.9465C449.3321,-180.9403 467.8412,-167.4791 484.1802,-155.5962\"/>\n<polygon fill=\"#000000\" stroke=\"#000000\" points=\"486.4758,-158.2545 492.5045,-149.5422 482.3585,-152.5933 486.4758,-158.2545\"/>\n</g>\n<!-- 9 -->\n<g id=\"node10\" class=\"node\">\n<title>9</title>\n<polygon fill=\"none\" stroke=\"#000000\" points=\"379,-53 277,-53 277,0 379,0 379,-53\"/>\n<text text-anchor=\"middle\" x=\"328\" y=\"-37.8\" font-family=\"Times,serif\" font-size=\"14.00\" fill=\"#000000\">gini = 0.037</text>\n<text text-anchor=\"middle\" x=\"328\" y=\"-22.8\" font-family=\"Times,serif\" font-size=\"14.00\" fill=\"#000000\">samples = 53</text>\n<text text-anchor=\"middle\" x=\"328\" y=\"-7.8\" font-family=\"Times,serif\" font-size=\"14.00\" fill=\"#000000\">value = [52, 1]</text>\n</g>\n<!-- 8&#45;&gt;9 -->\n<g id=\"edge9\" class=\"edge\">\n<title>8&#45;&gt;9</title>\n<path fill=\"none\" stroke=\"#000000\" d=\"M361.0193,-88.9777C356.4218,-80.2786 351.4663,-70.9018 346.8275,-62.1247\"/>\n<polygon fill=\"#000000\" stroke=\"#000000\" points=\"349.9035,-60.4543 342.1365,-53.2485 343.7147,-63.7251 349.9035,-60.4543\"/>\n</g>\n<!-- 10 -->\n<g id=\"node11\" class=\"node\">\n<title>10</title>\n<polygon fill=\"none\" stroke=\"#000000\" points=\"492.5,-53 397.5,-53 397.5,0 492.5,0 492.5,-53\"/>\n<text text-anchor=\"middle\" x=\"445\" y=\"-37.8\" font-family=\"Times,serif\" font-size=\"14.00\" fill=\"#000000\">gini = 0.5</text>\n<text text-anchor=\"middle\" x=\"445\" y=\"-22.8\" font-family=\"Times,serif\" font-size=\"14.00\" fill=\"#000000\">samples = 2</text>\n<text text-anchor=\"middle\" x=\"445\" y=\"-7.8\" font-family=\"Times,serif\" font-size=\"14.00\" fill=\"#000000\">value = [1, 1]</text>\n</g>\n<!-- 8&#45;&gt;10 -->\n<g id=\"edge10\" class=\"edge\">\n<title>8&#45;&gt;10</title>\n<path fill=\"none\" stroke=\"#000000\" d=\"M402.2691,-88.9777C408.344,-80.0954 414.9021,-70.5067 421.0135,-61.5711\"/>\n<polygon fill=\"#000000\" stroke=\"#000000\" points=\"423.9493,-63.4785 426.7057,-53.2485 418.1714,-59.5267 423.9493,-63.4785\"/>\n</g>\n<!-- 13 -->\n<g id=\"node14\" class=\"node\">\n<title>13</title>\n<polygon fill=\"none\" stroke=\"#000000\" points=\"591.5,-253.5 496.5,-253.5 496.5,-200.5 591.5,-200.5 591.5,-253.5\"/>\n<text text-anchor=\"middle\" x=\"544\" y=\"-238.3\" font-family=\"Times,serif\" font-size=\"14.00\" fill=\"#000000\">gini = 0.0</text>\n<text text-anchor=\"middle\" x=\"544\" y=\"-223.3\" font-family=\"Times,serif\" font-size=\"14.00\" fill=\"#000000\">samples = 7</text>\n<text text-anchor=\"middle\" x=\"544\" y=\"-208.3\" font-family=\"Times,serif\" font-size=\"14.00\" fill=\"#000000\">value = [0, 7]</text>\n</g>\n<!-- 12&#45;&gt;13 -->\n<g id=\"edge13\" class=\"edge\">\n<title>12&#45;&gt;13</title>\n<path fill=\"none\" stroke=\"#000000\" d=\"M549.3805,-296.9465C548.5586,-286.2621 547.6481,-274.4254 546.8134,-263.5742\"/>\n<polygon fill=\"#000000\" stroke=\"#000000\" points=\"550.2985,-263.2442 546.0417,-253.5422 543.3191,-263.7812 550.2985,-263.2442\"/>\n</g>\n<!-- 14 -->\n<g id=\"node15\" class=\"node\">\n<title>14</title>\n<polygon fill=\"none\" stroke=\"#000000\" points=\"704.5,-253.5 609.5,-253.5 609.5,-200.5 704.5,-200.5 704.5,-253.5\"/>\n<text text-anchor=\"middle\" x=\"657\" y=\"-238.3\" font-family=\"Times,serif\" font-size=\"14.00\" fill=\"#000000\">gini = 0.0</text>\n<text text-anchor=\"middle\" x=\"657\" y=\"-223.3\" font-family=\"Times,serif\" font-size=\"14.00\" fill=\"#000000\">samples = 1</text>\n<text text-anchor=\"middle\" x=\"657\" y=\"-208.3\" font-family=\"Times,serif\" font-size=\"14.00\" fill=\"#000000\">value = [1, 0]</text>\n</g>\n<!-- 12&#45;&gt;14 -->\n<g id=\"edge14\" class=\"edge\">\n<title>12&#45;&gt;14</title>\n<path fill=\"none\" stroke=\"#000000\" d=\"M586.3809,-296.9465C598.169,-285.2707 611.3462,-272.219 623.0962,-260.5809\"/>\n<polygon fill=\"#000000\" stroke=\"#000000\" points=\"625.5608,-263.066 630.2026,-253.5422 620.6348,-258.0927 625.5608,-263.066\"/>\n</g>\n</g>\n</svg>\n"
          },
          "metadata": {
            "tags": []
          },
          "execution_count": 206
        }
      ]
    }
  ]
}